{
 "cells": [
  {
   "cell_type": "code",
   "execution_count": 2,
   "id": "1aefe01c-3c62-4a70-bc18-a4ec868650df",
   "metadata": {},
   "outputs": [],
   "source": [
    "import pandas as pd\n",
    "import numpy as np\n",
    "import matplotlib.pyplot as plt\n",
    "import glob"
   ]
  },
  {
   "cell_type": "code",
   "execution_count": 4,
   "id": "957e31bf-7427-47e4-a16e-48f34b088e7e",
   "metadata": {},
   "outputs": [],
   "source": [
    "data_files = glob.glob(\"states*.csv\")\n",
    "data = []\n",
    "for filename in data_files:\n",
    "  file_append = pd.read_csv(filename)\n",
    "  data.append(file_append)"
   ]
  },
  {
   "cell_type": "code",
   "execution_count": 6,
   "id": "ee02f523-608e-41f8-bbe0-68a44c678304",
   "metadata": {},
   "outputs": [
    {
     "name": "stdout",
     "output_type": "stream",
     "text": [
      "   Unnamed: 0       State  TotalPop Hispanic   White   Black  Native   Asian  \\\n",
      "0           0     Alabama   4830620    3.75%  61.88%  31.25%   0.45%   1.05%   \n",
      "1           1      Alaska    733375    5.91%  60.91%   2.85%  16.39%   5.45%   \n",
      "2           2     Arizona   6641928   29.57%  57.12%   3.85%   4.36%   2.88%   \n",
      "3           3    Arkansas   2958208    6.22%  71.14%  18.97%   0.52%   1.14%   \n",
      "4           4  California  38421464   37.29%  40.22%   5.68%   0.41%  13.05%   \n",
      "\n",
      "  Pacific       Income            GenderPop  \n",
      "0   0.03%  $43,296.36     2341093M_2489527F  \n",
      "1   1.06%  $70,354.74       384160M_349215F  \n",
      "2   0.17%  $54,207.82     3299088M_3342840F  \n",
      "3   0.15%  $41,935.63     1451913M_1506295F  \n",
      "4   0.35%  $67,264.78   19087135M_19334329F  \n",
      "Unnamed: 0     int64\n",
      "State         object\n",
      "TotalPop       int64\n",
      "Hispanic      object\n",
      "White         object\n",
      "Black         object\n",
      "Native        object\n",
      "Asian         object\n",
      "Pacific       object\n",
      "Income        object\n",
      "GenderPop     object\n",
      "dtype: object\n"
     ]
    }
   ],
   "source": [
    "us_census = pd.concat(data)\n",
    "\n",
    "print(us_census.head())\n",
    "print(us_census.dtypes)"
   ]
  },
  {
   "cell_type": "code",
   "execution_count": 10,
   "id": "a3bfad3a-eb31-4889-8220-986bd9d39c1a",
   "metadata": {},
   "outputs": [],
   "source": [
    "us_census[\"Income\"] = us_census.Income.str.replace(\"$\", \"\", regex=False).str.replace(\",\", \"\", regex=False)\n",
    "us_census[\"Income\"] = pd.to_numeric(us_census.Income)\n",
    "\n",
    "gender_pop_split = us_census.GenderPop.str.split(\"_\")\n",
    "us_census[\"Female_population\"] = gender_pop_split.str.get(1)\n",
    "us_census[\"Male_population\"] = gender_pop_split.str.get(0)"
   ]
  },
  {
   "cell_type": "code",
   "execution_count": 12,
   "id": "8020625d-6f3b-431e-b571-6ec222e7e681",
   "metadata": {},
   "outputs": [
    {
     "name": "stdout",
     "output_type": "stream",
     "text": [
      "   Unnamed: 0       State  TotalPop Hispanic   White   Black  Native   Asian  \\\n",
      "0           0     Alabama   4830620    3.75%  61.88%  31.25%   0.45%   1.05%   \n",
      "1           1      Alaska    733375    5.91%  60.91%   2.85%  16.39%   5.45%   \n",
      "2           2     Arizona   6641928   29.57%  57.12%   3.85%   4.36%   2.88%   \n",
      "3           3    Arkansas   2958208    6.22%  71.14%  18.97%   0.52%   1.14%   \n",
      "4           4  California  38421464   37.29%  40.22%   5.68%   0.41%  13.05%   \n",
      "\n",
      "  Pacific    Income            GenderPop  Female_population  Male_population  \n",
      "0   0.03%  43296.36    2341093M_2489527F          2489527.0        2489527.0  \n",
      "1   1.06%  70354.74      384160M_349215F           349215.0         349215.0  \n",
      "2   0.17%  54207.82    3299088M_3342840F          3342840.0        3342840.0  \n",
      "3   0.15%  41935.63    1451913M_1506295F          1506295.0        1506295.0  \n",
      "4   0.35%  67264.78  19087135M_19334329F         19334329.0       19334329.0  \n"
     ]
    }
   ],
   "source": [
    "us_census[\"Female_population\"] = us_census.Female_population.str.replace(\"F\", \"\")\n",
    "us_census[\"Male_population\"] = us_census.Male_population.str.replace(\"M\", \"\")\n",
    "us_census.Female_population = pd.to_numeric(us_census.Female_population)\n",
    "us_census.Male_population = pd.to_numeric(us_census.Female_population)\n",
    "print(us_census.head())\n"
   ]
  },
  {
   "cell_type": "code",
   "execution_count": 14,
   "id": "9b506867-a8c1-4e6a-a923-a3956a7762f7",
   "metadata": {},
   "outputs": [
    {
     "data": {
      "image/png": "[encoded data removed]",
      "text/plain": [
       "<Figure size 640x480 with 1 Axes>"
      ]
     },
     "metadata": {},
     "output_type": "display_data"
    },
    {
     "name": "stdout",
     "output_type": "stream",
     "text": [
      "0     2489527.0\n",
      "1      349215.0\n",
      "2     3342840.0\n",
      "3     1506295.0\n",
      "4    19334329.0\n",
      "5     2630239.0\n",
      "0     2630239.0\n",
      "1     1841615.0\n",
      "2      478041.0\n",
      "3      340810.0\n",
      "4    10045763.0\n",
      "5     5123362.0\n",
      "0     5123362.0\n",
      "1      696428.0\n",
      "2      806083.0\n",
      "3     6556862.0\n",
      "4     3333382.0\n",
      "5     1558931.0\n",
      "0     1558931.0\n",
      "1     1453125.0\n",
      "2     2233145.0\n",
      "3     2364097.0\n",
      "4      679019.0\n",
      "5           NaN\n",
      "0           NaN\n",
      "1     3455936.0\n",
      "2     5038598.0\n",
      "3     2727005.0\n",
      "4     1536358.0\n",
      "5     3081445.0\n",
      "0     3081445.0\n",
      "1           NaN\n",
      "2      939759.0\n",
      "3     1390901.0\n",
      "4      670717.0\n",
      "5     4561386.0\n",
      "0     4561386.0\n",
      "1     1051703.0\n",
      "2    10131373.0\n",
      "3     5049925.0\n",
      "4      353677.0\n",
      "5     5913084.0\n",
      "0     5913084.0\n",
      "1     1942789.0\n",
      "2     1990780.0\n",
      "3     6534215.0\n",
      "4     1869213.0\n",
      "5      543273.0\n",
      "0      543273.0\n",
      "1     2455167.0\n",
      "2      419713.0\n",
      "3     3331859.0\n",
      "4    13367298.0\n",
      "5     1444150.0\n",
      "0     1444150.0\n",
      "1      318031.0\n",
      "2     4195682.0\n",
      "3     3497739.0\n",
      "4      937789.0\n",
      "5     2890732.0\n",
      "Name: Female_population, dtype: float64\n"
     ]
    }
   ],
   "source": [
    "plt.scatter(us_census.Female_population, us_census.Income)\n",
    "plt.show()\n",
    "print(us_census.Female_population)"
   ]
  }
 ],
 "metadata": {
  "kernelspec": {
   "display_name": "Python [conda env:base] *",
   "language": "python",
   "name": "conda-base-py"
  },
  "language_info": {
   "codemirror_mode": {
    "name": "ipython",
    "version": 3
   },
   "file_extension": ".py",
   "mimetype": "text/x-python",
   "name": "python",
   "nbconvert_exporter": "python",
   "pygments_lexer": "ipython3",
   "version": "3.12.7"
  }
 },
 "nbformat": 4,
 "nbformat_minor": 5
}
