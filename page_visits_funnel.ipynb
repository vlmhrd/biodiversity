{
 "cells": [
  {
   "cell_type": "code",
   "execution_count": 2,
   "id": "85511b6a-30fc-4eed-bd9b-3af555ba1d1f",
   "metadata": {},
   "outputs": [],
   "source": [
    "import pandas as pd\n",
    "\n",
    "visits = pd.read_csv('visits.csv',\n",
    "                     parse_dates=[1])\n",
    "cart = pd.read_csv('cart.csv',\n",
    "                   parse_dates=[1])\n",
    "checkout = pd.read_csv('checkout.csv',\n",
    "                       parse_dates=[1])\n",
    "\n",
    "purchase = pd.read_csv('purchase.csv',\n",
    "                       parse_dates=[1])"
   ]
  },
  {
   "cell_type": "code",
   "execution_count": 4,
   "id": "f77a5dd3-34ff-448d-a4a3-19113e96fba3",
   "metadata": {},
   "outputs": [
    {
     "name": "stdout",
     "output_type": "stream",
     "text": [
      "                                user_id          visit_time\n",
      "0  943647ef-3682-4750-a2e1-918ba6f16188 2017-04-07 15:14:00\n",
      "1  0c3a3dd0-fb64-4eac-bf84-ba069ce409f2 2017-01-26 14:24:00\n",
      "2  6e0b2d60-4027-4d9a-babd-0e7d40859fb1 2017-08-20 08:23:00\n",
      "3  6879527e-c5a6-4d14-b2da-50b85212b0ab 2017-11-04 18:15:00\n",
      "4  a84327ff-5daa-4ba1-b789-d5b4caf81e96 2017-02-27 11:25:00\n",
      "                                user_id           cart_time\n",
      "0  2be90e7c-9cca-44e0-bcc5-124b945ff168 2017-11-07 20:45:00\n",
      "1  4397f73f-1da3-4ab3-91af-762792e25973 2017-05-27 01:35:00\n",
      "2  a9db3d4b-0a0a-4398-a55a-ebb2c7adf663 2017-03-04 10:38:00\n",
      "3  b594862a-36c5-47d5-b818-6e9512b939b3 2017-09-27 08:22:00\n",
      "4  a68a16e2-94f0-4ce8-8ce3-784af0bbb974 2017-07-26 15:48:00\n",
      "                                user_id       checkout_time\n",
      "0  d33bdc47-4afa-45bc-b4e4-dbe948e34c0d 2017-06-25 09:29:00\n",
      "1  4ac186f0-9954-4fea-8a27-c081e428e34e 2017-04-07 20:11:00\n",
      "2  3c9c78a7-124a-4b77-8d2e-e1926e011e7d 2017-07-13 11:38:00\n",
      "3  89fe330a-8966-4756-8f7c-3bdbcd47279a 2017-04-20 16:15:00\n",
      "4  3ccdaf69-2d30-40de-b083-51372881aedd 2017-01-08 20:52:00\n",
      "                                user_id       purchase_time\n",
      "0  4b44ace4-2721-47a0-b24b-15fbfa2abf85 2017-05-11 04:25:00\n",
      "1  02e684ae-a448-408f-a9ff-dcb4a5c99aac 2017-09-05 08:45:00\n",
      "2  4b4bc391-749e-4b90-ab8f-4f6e3c84d6dc 2017-11-20 20:49:00\n",
      "3  a5dbb25f-3c36-4103-9030-9f7c6241cd8d 2017-01-22 15:18:00\n",
      "4  46a3186d-7f5a-4ab9-87af-84d05bfd4867 2017-06-11 11:32:00\n",
      "2000\n"
     ]
    }
   ],
   "source": [
    "print(visits.head())\n",
    "print(cart.head())\n",
    "print(checkout.head())\n",
    "print(purchase.head())\n",
    "\n",
    "visits_cart = pd.merge(visits, cart, how='left')\n",
    "print(len(visits_cart))\n"
   ]
  },
  {
   "cell_type": "code",
   "execution_count": 6,
   "id": "b1e8abf0-9e6f-4979-baa1-d4b0b1d00e43",
   "metadata": {},
   "outputs": [
    {
     "name": "stdout",
     "output_type": "stream",
     "text": [
      "1652\n",
      "82.6\n",
      "348\n"
     ]
    }
   ],
   "source": [
    "null_cart = visits_cart[visits_cart.cart_time.isnull()]\n",
    "print(len(null_cart))\n",
    "\n",
    "percent = (len(null_cart) / len(visits_cart) * 100)\n",
    "print(percent)\n",
    "\n",
    "cart_checkout = pd.merge(cart, checkout, how='left')\n",
    "print(len(cart_checkout))\n",
    "\n"
   ]
  },
  {
   "cell_type": "code",
   "execution_count": 8,
   "id": "0be7df87-e523-412e-ae0d-09e3f7c15780",
   "metadata": {},
   "outputs": [
    {
     "name": "stdout",
     "output_type": "stream",
     "text": [
      "122\n",
      "35.05747126436782\n"
     ]
    }
   ],
   "source": [
    "\n",
    "null_checkout = cart_checkout[cart_checkout.checkout_time.isnull()]\n",
    "print(len(null_checkout))\n",
    "\n",
    "percent_checkout = (len(null_checkout) / len(cart_checkout) * 100)\n",
    "print(percent_checkout)\n",
    "\n"
   ]
  },
  {
   "cell_type": "code",
   "execution_count": 10,
   "id": "62be8f7d-bed2-4846-a4db-0143a8b6826b",
   "metadata": {},
   "outputs": [
    {
     "name": "stdout",
     "output_type": "stream",
     "text": [
      "                                user_id          visit_time  \\\n",
      "0  0c3a3dd0-fb64-4eac-bf84-ba069ce409f2 2017-01-26 14:24:00   \n",
      "1  486480e2-98c3-4d51-8f4b-b1c07228ce84 2017-01-27 16:34:00   \n",
      "2  3ccdaf69-2d30-40de-b083-51372881aedd 2017-01-08 20:21:00   \n",
      "3  3ccdaf69-2d30-40de-b083-51372881aedd 2017-01-08 20:21:00   \n",
      "4  ab0125fc-9493-4f59-ad70-24ad264a3a0c 2017-11-18 03:21:00   \n",
      "\n",
      "            cart_time       checkout_time       purchase_time  \n",
      "0 2017-01-26 14:44:00 2017-01-26 14:54:00 2017-01-26 15:08:00  \n",
      "1 2017-01-27 16:44:00 2017-01-27 17:10:00 2017-01-27 17:12:00  \n",
      "2 2017-01-08 20:38:00 2017-01-08 20:52:00 2017-01-08 21:02:00  \n",
      "3 2017-01-08 20:38:00 2017-01-08 20:52:00 2017-01-08 21:21:00  \n",
      "4 2017-11-18 03:33:00 2017-11-18 03:57:00 2017-11-18 04:21:00  \n",
      "                                user_id          visit_time  \\\n",
      "0  0c3a3dd0-fb64-4eac-bf84-ba069ce409f2 2017-01-26 14:24:00   \n",
      "1  486480e2-98c3-4d51-8f4b-b1c07228ce84 2017-01-27 16:34:00   \n",
      "2  3ccdaf69-2d30-40de-b083-51372881aedd 2017-01-08 20:21:00   \n",
      "3  3ccdaf69-2d30-40de-b083-51372881aedd 2017-01-08 20:21:00   \n",
      "4  ab0125fc-9493-4f59-ad70-24ad264a3a0c 2017-11-18 03:21:00   \n",
      "\n",
      "            cart_time       checkout_time       purchase_time time_difference  \n",
      "0 2017-01-26 14:44:00 2017-01-26 14:54:00 2017-01-26 15:08:00 0 days 00:44:00  \n",
      "1 2017-01-27 16:44:00 2017-01-27 17:10:00 2017-01-27 17:12:00 0 days 00:38:00  \n",
      "2 2017-01-08 20:38:00 2017-01-08 20:52:00 2017-01-08 21:02:00 0 days 00:41:00  \n",
      "3 2017-01-08 20:38:00 2017-01-08 20:52:00 2017-01-08 21:21:00 0 days 01:00:00  \n",
      "4 2017-11-18 03:33:00 2017-11-18 03:57:00 2017-11-18 04:21:00 0 days 01:00:00  \n",
      "0 days 00:43:12.380952380\n"
     ]
    }
   ],
   "source": [
    "all_data = visits.merge(cart).merge(checkout).merge(purchase)\n",
    "print(all_data.head())\n",
    "\n",
    "all_data['time_difference'] = all_data.purchase_time - all_data.visit_time\n",
    "print(all_data.head())\n",
    "\n",
    "average_time = all_data.time_difference.mean()\n",
    "print(average_time)"
   ]
  }
 ],
 "metadata": {
  "kernelspec": {
   "display_name": "Python [conda env:base] *",
   "language": "python",
   "name": "conda-base-py"
  },
  "language_info": {
   "codemirror_mode": {
    "name": "ipython",
    "version": 3
   },
   "file_extension": ".py",
   "mimetype": "text/x-python",
   "name": "python",
   "nbconvert_exporter": "python",
   "pygments_lexer": "ipython3",
   "version": "3.12.7"
  }
 },
 "nbformat": 4,
 "nbformat_minor": 5
}
